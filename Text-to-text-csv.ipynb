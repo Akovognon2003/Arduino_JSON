{
  "cells": [
    {
      "cell_type": "markdown",
      "metadata": {
        "id": "view-in-github",
        "colab_type": "text"
      },
      "source": [
        "<a href=\"https://colab.research.google.com/github/Akovognon2003/Arduino_JSON/blob/master/Text-to-text-csv.ipynb\" target=\"_parent\"><img src=\"https://colab.research.google.com/assets/colab-badge.svg\" alt=\"Open In Colab\"/></a>"
      ]
    },
    {
      "cell_type": "markdown",
      "source": [
        "# GPT-2 Fine-Tuning Tutorial with PyTorch & Huggingface in **Colab**"
      ],
      "metadata": {
        "id": "b6rh7uabUw_P"
      }
    },
    {
      "cell_type": "markdown",
      "source": [
        "Il s'agit d'un script simplifié permettant d'affiner GPT2 en utilisant la bibliothèque Transformers de Hugging Face et PyTorch.\n",
        "\n",
        "Vous devez comprendre les bases de PyTorch et le fonctionnement d'une boucle d'entraînement avant de commencer. La connaissance du fonctionnement de GPT2 peut être utile mais n'est pas nécessaire. Le code a été écrit dans un souci de clarté et non de réutilisation. Je conseille de le remanier pour des projets réels. J'ai généreusement repris des éléments du tutoriel de Chris McCormick sur le réglage fin du BERT, du tutoriel de Ian Porter sur le GPT2 et du script de réglage fin du modèle Hugging Face Language, donc tout le mérite leur revient. Le code de Chris a pratiquement fourni la base de ce script - vous devriez absolument consulter son blog.\n",
        "\n",
        "Je dois mentionner ce que le script ne couvre pas :\n",
        "\n",
        "  - L'utilisation de la bibliothèque nlp pour charger l'ensemble de données et mettre en place le flux de travail d'entraînement, qui semble rationaliser les choses de manière assez agréable.\n",
        "  - Accumulation de gradients - cela permet d'obtenir des tailles de lots effectives plus importantes que celles autorisées par Colab (GPT2 est un modèle de grande taille, et toute taille de lot supérieure à 2 suffirait à provoquer une erreur CUDA de mémoire insuffisante sur Colab).\n",
        "  - Gel des couches. Il s'agit du processus consistant à ne modifier que les paramètres des couches sélectionnées, rendu célèbre par le processus ULMFit.\n",
        "  - Utilisation de \"past\" lors de la génération de texte. Cela permet de prendre en compte l'état précédent lors de la génération d'éléments de texte successifs. Je n'en ai pas eu besoin.\n",
        "  - Emballage des tenseurs. Il s'agit d'un moyen efficace d'intégrer un maximum de données d'entraînement dans chaque lot.\n",
        "  - Recherche d'hyperparamètres. J'ai rapidement choisi des valeurs qui semblaient produire des valeurs correctes, sans vérifier si elles étaient optimales.\n",
        "\n",
        "Nous avons réutilisé ainsi ce tutoriel dans le cadre de la formation sur l'EEIA 2023. Ainsi, nous ne partons pas de zéro et orientons mieux les participants sur le fine turning d'un modele Text to Text avec GPT2.\n",
        "Vous pouvez revoir le code complet à cet adresse https://colab.research.google.com/drive/13dZVYEOMhXhkXWfvSMVM1TTtUDrT6Aeh?usp=sharing#scrollTo=EKOTlwcmxmej ."
      ],
      "metadata": {
        "id": "d-SqOsWzU_ia"
      }
    },
    {
      "cell_type": "markdown",
      "source": [
        "#### Il est important de souligner que ce travail se base sur un travail initiale où nous avons adapté le modele gpt2 aux données du covid19\n",
        "\n",
        "__author__ = \"NOBIME Tanguy Adonis\"\n",
        "\n",
        "__copyright__ = \"Copyright 2023, EEIA 2023\"\n",
        "\n",
        "__credits__ = [\"Vincent Whannou de Dravo, Vivien Ogoun, Adonis Nobime, Landry Bossou and Konig Koudogbo\"]\n",
        "\n",
        "__license__ = \"MIT\"\n",
        "\n",
        "__version__ = \"1.0.0\"\n",
        "\n",
        "__maintainer__ = \"Vivien Ogoun, and Vincent Whannou de Dravo and Adonis Nobime and Landry Bossou and Konig Koudogbo\"\n",
        "\n",
        "__email__ = \"nobimetanguy19@gmail.com\"\n",
        "\n",
        "__status__ = \"Dev\"\n",
        "\n"
      ],
      "metadata": {
        "id": "eSxxllZ9VRCT"
      }
    },
    {
      "cell_type": "markdown",
      "source": [
        "Installation du package transformers avec cette commande :\n",
        "!pip install transformers"
      ],
      "metadata": {
        "id": "pNnkLibkVSu0"
      }
    },
    {
      "cell_type": "code",
      "source": [
        "!pip install transformers"
      ],
      "metadata": {
        "id": "n6dHl79mS-vM",
        "outputId": "59d8720a-3769-4b9e-b97c-d591d0be5e06",
        "colab": {
          "base_uri": "https://localhost:8080/"
        }
      },
      "execution_count": 2,
      "outputs": [
        {
          "output_type": "stream",
          "name": "stdout",
          "text": [
            "Collecting transformers\n",
            "  Downloading transformers-4.31.0-py3-none-any.whl (7.4 MB)\n",
            "\u001b[2K     \u001b[90m━━━━━━━━━━━━━━━━━━━━━━━━━━━━━━━━━━━━━━━━\u001b[0m \u001b[32m7.4/7.4 MB\u001b[0m \u001b[31m34.9 MB/s\u001b[0m eta \u001b[36m0:00:00\u001b[0m\n",
            "\u001b[?25hRequirement already satisfied: filelock in /usr/local/lib/python3.10/dist-packages (from transformers) (3.12.2)\n",
            "Collecting huggingface-hub<1.0,>=0.14.1 (from transformers)\n",
            "  Downloading huggingface_hub-0.16.4-py3-none-any.whl (268 kB)\n",
            "\u001b[2K     \u001b[90m━━━━━━━━━━━━━━━━━━━━━━━━━━━━━━━━━━━━━━\u001b[0m \u001b[32m268.8/268.8 kB\u001b[0m \u001b[31m23.4 MB/s\u001b[0m eta \u001b[36m0:00:00\u001b[0m\n",
            "\u001b[?25hRequirement already satisfied: numpy>=1.17 in /usr/local/lib/python3.10/dist-packages (from transformers) (1.23.5)\n",
            "Requirement already satisfied: packaging>=20.0 in /usr/local/lib/python3.10/dist-packages (from transformers) (23.1)\n",
            "Requirement already satisfied: pyyaml>=5.1 in /usr/local/lib/python3.10/dist-packages (from transformers) (6.0.1)\n",
            "Requirement already satisfied: regex!=2019.12.17 in /usr/local/lib/python3.10/dist-packages (from transformers) (2022.10.31)\n",
            "Requirement already satisfied: requests in /usr/local/lib/python3.10/dist-packages (from transformers) (2.31.0)\n",
            "Collecting tokenizers!=0.11.3,<0.14,>=0.11.1 (from transformers)\n",
            "  Downloading tokenizers-0.13.3-cp310-cp310-manylinux_2_17_x86_64.manylinux2014_x86_64.whl (7.8 MB)\n",
            "\u001b[2K     \u001b[90m━━━━━━━━━━━━━━━━━━━━━━━━━━━━━━━━━━━━━━━━\u001b[0m \u001b[32m7.8/7.8 MB\u001b[0m \u001b[31m62.8 MB/s\u001b[0m eta \u001b[36m0:00:00\u001b[0m\n",
            "\u001b[?25hCollecting safetensors>=0.3.1 (from transformers)\n",
            "  Downloading safetensors-0.3.2-cp310-cp310-manylinux_2_17_x86_64.manylinux2014_x86_64.whl (1.3 MB)\n",
            "\u001b[2K     \u001b[90m━━━━━━━━━━━━━━━━━━━━━━━━━━━━━━━━━━━━━━━━\u001b[0m \u001b[32m1.3/1.3 MB\u001b[0m \u001b[31m61.4 MB/s\u001b[0m eta \u001b[36m0:00:00\u001b[0m\n",
            "\u001b[?25hRequirement already satisfied: tqdm>=4.27 in /usr/local/lib/python3.10/dist-packages (from transformers) (4.65.0)\n",
            "Requirement already satisfied: fsspec in /usr/local/lib/python3.10/dist-packages (from huggingface-hub<1.0,>=0.14.1->transformers) (2023.6.0)\n",
            "Requirement already satisfied: typing-extensions>=3.7.4.3 in /usr/local/lib/python3.10/dist-packages (from huggingface-hub<1.0,>=0.14.1->transformers) (4.7.1)\n",
            "Requirement already satisfied: charset-normalizer<4,>=2 in /usr/local/lib/python3.10/dist-packages (from requests->transformers) (3.2.0)\n",
            "Requirement already satisfied: idna<4,>=2.5 in /usr/local/lib/python3.10/dist-packages (from requests->transformers) (3.4)\n",
            "Requirement already satisfied: urllib3<3,>=1.21.1 in /usr/local/lib/python3.10/dist-packages (from requests->transformers) (1.26.16)\n",
            "Requirement already satisfied: certifi>=2017.4.17 in /usr/local/lib/python3.10/dist-packages (from requests->transformers) (2023.7.22)\n",
            "Installing collected packages: tokenizers, safetensors, huggingface-hub, transformers\n",
            "Successfully installed huggingface-hub-0.16.4 safetensors-0.3.2 tokenizers-0.13.3 transformers-4.31.0\n"
          ]
        }
      ]
    },
    {
      "cell_type": "markdown",
      "source": [
        "Importation des packages nécessaires"
      ],
      "metadata": {
        "id": "81bqsJ71Vev1"
      }
    },
    {
      "cell_type": "code",
      "source": [
        "import os\n",
        "import time\n",
        "import datetime\n",
        "from google.colab import drive\n",
        "\n",
        "import pandas as pd\n",
        "import seaborn as sns\n",
        "import numpy as np\n",
        "import random\n",
        "\n",
        "import matplotlib.pyplot as plt\n",
        "%matplotlib inline\n",
        "\n",
        "import torch\n",
        "from torch.utils.data import Dataset, DataLoader, random_split, RandomSampler, SequentialSampler\n",
        "torch.manual_seed(42)\n",
        "\n",
        "from transformers import GPT2LMHeadModel,  GPT2Tokenizer, GPT2Config, GPT2LMHeadModel\n",
        "from transformers import AdamW, get_linear_schedule_with_warmup\n",
        "\n",
        "import nltk\n",
        "nltk.download('punkt')"
      ],
      "metadata": {
        "id": "1FrRgiFBS-zx",
        "outputId": "344843f3-320d-4cc8-c5c7-88e181345e19",
        "colab": {
          "base_uri": "https://localhost:8080/"
        }
      },
      "execution_count": 3,
      "outputs": [
        {
          "output_type": "stream",
          "name": "stderr",
          "text": [
            "[nltk_data] Downloading package punkt to /root/nltk_data...\n",
            "[nltk_data]   Unzipping tokenizers/punkt.zip.\n"
          ]
        },
        {
          "output_type": "execute_result",
          "data": {
            "text/plain": [
              "True"
            ]
          },
          "metadata": {},
          "execution_count": 3
        }
      ]
    },
    {
      "cell_type": "markdown",
      "source": [
        "# Création d'un ensemble d'entraînement\n",
        "\n",
        "Les données utilisées pour affiner le modèle linguistique sont un ensemble d'environ 1000 ensemble de données COVID sur la détection des fausses nouvelles, dans le but de les générer dans le même format général et le même style."
      ],
      "metadata": {
        "id": "GSr4HFroVm3y"
      }
    },
    {
      "cell_type": "code",
      "source": [
        "path = \"/content/drive/MyDrive/covid_faq.csv\""
      ],
      "metadata": {
        "id": "LqqLMUaaS-5N"
      },
      "execution_count": 4,
      "outputs": []
    },
    {
      "cell_type": "code",
      "source": [
        "# lecture des données\n",
        "df = pd.read_csv(path)\n",
        "df.head()"
      ],
      "metadata": {
        "id": "AgtoNyV4S-_K",
        "outputId": "495840bd-2a73-41c3-c39c-88737aff6935",
        "colab": {
          "base_uri": "https://localhost:8080/",
          "height": 250
        }
      },
      "execution_count": 5,
      "outputs": [
        {
          "output_type": "execute_result",
          "data": {
            "text/plain": [
              "                                           questions  \\\n",
              "0                       What is a novel coronavirus?   \n",
              "1  Why is the disease being called coronavirus di...   \n",
              "2                         How does the virus spread?   \n",
              "3  Can I get COVID-19 from food (including restau...   \n",
              "4   Will warm weather stop the outbreak of COVID-19?   \n",
              "\n",
              "                                             answers  \n",
              "0  A novel coronavirus is a new coronavirus that ...  \n",
              "1  On February 11, 2020 the World Health Organiza...  \n",
              "2  The virus that causes COVID-19 is thought to s...  \n",
              "3  Currently there is no evidence that people can...  \n",
              "4  It is not yet known whether weather and temper...  "
            ],
            "text/html": [
              "\n",
              "\n",
              "  <div id=\"df-f5fa6a69-4f8e-4ae8-b026-761d8550e795\">\n",
              "    <div class=\"colab-df-container\">\n",
              "      <div>\n",
              "<style scoped>\n",
              "    .dataframe tbody tr th:only-of-type {\n",
              "        vertical-align: middle;\n",
              "    }\n",
              "\n",
              "    .dataframe tbody tr th {\n",
              "        vertical-align: top;\n",
              "    }\n",
              "\n",
              "    .dataframe thead th {\n",
              "        text-align: right;\n",
              "    }\n",
              "</style>\n",
              "<table border=\"1\" class=\"dataframe\">\n",
              "  <thead>\n",
              "    <tr style=\"text-align: right;\">\n",
              "      <th></th>\n",
              "      <th>questions</th>\n",
              "      <th>answers</th>\n",
              "    </tr>\n",
              "  </thead>\n",
              "  <tbody>\n",
              "    <tr>\n",
              "      <th>0</th>\n",
              "      <td>What is a novel coronavirus?</td>\n",
              "      <td>A novel coronavirus is a new coronavirus that ...</td>\n",
              "    </tr>\n",
              "    <tr>\n",
              "      <th>1</th>\n",
              "      <td>Why is the disease being called coronavirus di...</td>\n",
              "      <td>On February 11, 2020 the World Health Organiza...</td>\n",
              "    </tr>\n",
              "    <tr>\n",
              "      <th>2</th>\n",
              "      <td>How does the virus spread?</td>\n",
              "      <td>The virus that causes COVID-19 is thought to s...</td>\n",
              "    </tr>\n",
              "    <tr>\n",
              "      <th>3</th>\n",
              "      <td>Can I get COVID-19 from food (including restau...</td>\n",
              "      <td>Currently there is no evidence that people can...</td>\n",
              "    </tr>\n",
              "    <tr>\n",
              "      <th>4</th>\n",
              "      <td>Will warm weather stop the outbreak of COVID-19?</td>\n",
              "      <td>It is not yet known whether weather and temper...</td>\n",
              "    </tr>\n",
              "  </tbody>\n",
              "</table>\n",
              "</div>\n",
              "      <button class=\"colab-df-convert\" onclick=\"convertToInteractive('df-f5fa6a69-4f8e-4ae8-b026-761d8550e795')\"\n",
              "              title=\"Convert this dataframe to an interactive table.\"\n",
              "              style=\"display:none;\">\n",
              "\n",
              "  <svg xmlns=\"http://www.w3.org/2000/svg\" height=\"24px\"viewBox=\"0 0 24 24\"\n",
              "       width=\"24px\">\n",
              "    <path d=\"M0 0h24v24H0V0z\" fill=\"none\"/>\n",
              "    <path d=\"M18.56 5.44l.94 2.06.94-2.06 2.06-.94-2.06-.94-.94-2.06-.94 2.06-2.06.94zm-11 1L8.5 8.5l.94-2.06 2.06-.94-2.06-.94L8.5 2.5l-.94 2.06-2.06.94zm10 10l.94 2.06.94-2.06 2.06-.94-2.06-.94-.94-2.06-.94 2.06-2.06.94z\"/><path d=\"M17.41 7.96l-1.37-1.37c-.4-.4-.92-.59-1.43-.59-.52 0-1.04.2-1.43.59L10.3 9.45l-7.72 7.72c-.78.78-.78 2.05 0 2.83L4 21.41c.39.39.9.59 1.41.59.51 0 1.02-.2 1.41-.59l7.78-7.78 2.81-2.81c.8-.78.8-2.07 0-2.86zM5.41 20L4 18.59l7.72-7.72 1.47 1.35L5.41 20z\"/>\n",
              "  </svg>\n",
              "      </button>\n",
              "\n",
              "\n",
              "\n",
              "    <div id=\"df-42a9d164-ead7-45dd-a31b-dae632e4a319\">\n",
              "      <button class=\"colab-df-quickchart\" onclick=\"quickchart('df-42a9d164-ead7-45dd-a31b-dae632e4a319')\"\n",
              "              title=\"Suggest charts.\"\n",
              "              style=\"display:none;\">\n",
              "\n",
              "<svg xmlns=\"http://www.w3.org/2000/svg\" height=\"24px\"viewBox=\"0 0 24 24\"\n",
              "     width=\"24px\">\n",
              "    <g>\n",
              "        <path d=\"M19 3H5c-1.1 0-2 .9-2 2v14c0 1.1.9 2 2 2h14c1.1 0 2-.9 2-2V5c0-1.1-.9-2-2-2zM9 17H7v-7h2v7zm4 0h-2V7h2v10zm4 0h-2v-4h2v4z\"/>\n",
              "    </g>\n",
              "</svg>\n",
              "      </button>\n",
              "    </div>\n",
              "\n",
              "<style>\n",
              "  .colab-df-quickchart {\n",
              "    background-color: #E8F0FE;\n",
              "    border: none;\n",
              "    border-radius: 50%;\n",
              "    cursor: pointer;\n",
              "    display: none;\n",
              "    fill: #1967D2;\n",
              "    height: 32px;\n",
              "    padding: 0 0 0 0;\n",
              "    width: 32px;\n",
              "  }\n",
              "\n",
              "  .colab-df-quickchart:hover {\n",
              "    background-color: #E2EBFA;\n",
              "    box-shadow: 0px 1px 2px rgba(60, 64, 67, 0.3), 0px 1px 3px 1px rgba(60, 64, 67, 0.15);\n",
              "    fill: #174EA6;\n",
              "  }\n",
              "\n",
              "  [theme=dark] .colab-df-quickchart {\n",
              "    background-color: #3B4455;\n",
              "    fill: #D2E3FC;\n",
              "  }\n",
              "\n",
              "  [theme=dark] .colab-df-quickchart:hover {\n",
              "    background-color: #434B5C;\n",
              "    box-shadow: 0px 1px 3px 1px rgba(0, 0, 0, 0.15);\n",
              "    filter: drop-shadow(0px 1px 2px rgba(0, 0, 0, 0.3));\n",
              "    fill: #FFFFFF;\n",
              "  }\n",
              "</style>\n",
              "\n",
              "    <script>\n",
              "      async function quickchart(key) {\n",
              "        const containerElement = document.querySelector('#' + key);\n",
              "        const charts = await google.colab.kernel.invokeFunction(\n",
              "            'suggestCharts', [key], {});\n",
              "      }\n",
              "    </script>\n",
              "\n",
              "      <script>\n",
              "\n",
              "function displayQuickchartButton(domScope) {\n",
              "  let quickchartButtonEl =\n",
              "    domScope.querySelector('#df-42a9d164-ead7-45dd-a31b-dae632e4a319 button.colab-df-quickchart');\n",
              "  quickchartButtonEl.style.display =\n",
              "    google.colab.kernel.accessAllowed ? 'block' : 'none';\n",
              "}\n",
              "\n",
              "        displayQuickchartButton(document);\n",
              "      </script>\n",
              "      <style>\n",
              "    .colab-df-container {\n",
              "      display:flex;\n",
              "      flex-wrap:wrap;\n",
              "      gap: 12px;\n",
              "    }\n",
              "\n",
              "    .colab-df-convert {\n",
              "      background-color: #E8F0FE;\n",
              "      border: none;\n",
              "      border-radius: 50%;\n",
              "      cursor: pointer;\n",
              "      display: none;\n",
              "      fill: #1967D2;\n",
              "      height: 32px;\n",
              "      padding: 0 0 0 0;\n",
              "      width: 32px;\n",
              "    }\n",
              "\n",
              "    .colab-df-convert:hover {\n",
              "      background-color: #E2EBFA;\n",
              "      box-shadow: 0px 1px 2px rgba(60, 64, 67, 0.3), 0px 1px 3px 1px rgba(60, 64, 67, 0.15);\n",
              "      fill: #174EA6;\n",
              "    }\n",
              "\n",
              "    [theme=dark] .colab-df-convert {\n",
              "      background-color: #3B4455;\n",
              "      fill: #D2E3FC;\n",
              "    }\n",
              "\n",
              "    [theme=dark] .colab-df-convert:hover {\n",
              "      background-color: #434B5C;\n",
              "      box-shadow: 0px 1px 3px 1px rgba(0, 0, 0, 0.15);\n",
              "      filter: drop-shadow(0px 1px 2px rgba(0, 0, 0, 0.3));\n",
              "      fill: #FFFFFF;\n",
              "    }\n",
              "  </style>\n",
              "\n",
              "      <script>\n",
              "        const buttonEl =\n",
              "          document.querySelector('#df-f5fa6a69-4f8e-4ae8-b026-761d8550e795 button.colab-df-convert');\n",
              "        buttonEl.style.display =\n",
              "          google.colab.kernel.accessAllowed ? 'block' : 'none';\n",
              "\n",
              "        async function convertToInteractive(key) {\n",
              "          const element = document.querySelector('#df-f5fa6a69-4f8e-4ae8-b026-761d8550e795');\n",
              "          const dataTable =\n",
              "            await google.colab.kernel.invokeFunction('convertToInteractive',\n",
              "                                                     [key], {});\n",
              "          if (!dataTable) return;\n",
              "\n",
              "          const docLinkHtml = 'Like what you see? Visit the ' +\n",
              "            '<a target=\"_blank\" href=https://colab.research.google.com/notebooks/data_table.ipynb>data table notebook</a>'\n",
              "            + ' to learn more about interactive tables.';\n",
              "          element.innerHTML = '';\n",
              "          dataTable['output_type'] = 'display_data';\n",
              "          await google.colab.output.renderOutput(dataTable, element);\n",
              "          const docLink = document.createElement('div');\n",
              "          docLink.innerHTML = docLinkHtml;\n",
              "          element.appendChild(docLink);\n",
              "        }\n",
              "      </script>\n",
              "    </div>\n",
              "  </div>\n"
            ]
          },
          "metadata": {},
          "execution_count": 5
        }
      ]
    },
    {
      "cell_type": "code",
      "source": [
        "# Analyse des données manquantes\n",
        "df.isnull().sum()"
      ],
      "metadata": {
        "id": "1lxu9aiES_E-",
        "outputId": "d822da83-1c51-43aa-cde1-b3ef0a3584bc",
        "colab": {
          "base_uri": "https://localhost:8080/"
        }
      },
      "execution_count": 6,
      "outputs": [
        {
          "output_type": "execute_result",
          "data": {
            "text/plain": [
              "questions    0\n",
              "answers      0\n",
              "dtype: int64"
            ]
          },
          "metadata": {},
          "execution_count": 6
        }
      ]
    },
    {
      "cell_type": "code",
      "source": [
        "# Prise des réponses sur la covid\n",
        "answers_covid = df.answers.copy()"
      ],
      "metadata": {
        "id": "nj6-12iIS_Ky"
      },
      "execution_count": 7,
      "outputs": []
    },
    {
      "cell_type": "markdown",
      "source": [
        "Nous devons nous faire une idée de la longueur de nos documents d'apprentissage.\n",
        "\n",
        "Je ne vais pas utiliser le même tokenizer que celui de GPT2, qui est un tokenizer de codage par paire d'octets. Au lieu de cela, j'en utilise un simple, juste pour avoir une idée approximative."
      ],
      "metadata": {
        "id": "HX5KEh3qVypa"
      }
    },
    {
      "cell_type": "code",
      "source": [
        "doc_lengths = []\n",
        "\n",
        "for bio in answers_covid :\n",
        "\n",
        "    # obtenir une distribution approximative du nombre de jetons\n",
        "    tokens = nltk.word_tokenize(bio)\n",
        "\n",
        "    doc_lengths.append(len(tokens))\n",
        "\n",
        "doc_lengths = np.array(doc_lengths)\n",
        "\n",
        "sns.distplot(doc_lengths)"
      ],
      "metadata": {
        "id": "iYxqPeWMS_Rq",
        "outputId": "e6534758-2330-41d9-8b92-48882f6bf3b0",
        "colab": {
          "base_uri": "https://localhost:8080/",
          "height": 649
        }
      },
      "execution_count": 8,
      "outputs": [
        {
          "output_type": "stream",
          "name": "stderr",
          "text": [
            "<ipython-input-8-889de062fe13>:12: UserWarning: \n",
            "\n",
            "`distplot` is a deprecated function and will be removed in seaborn v0.14.0.\n",
            "\n",
            "Please adapt your code to use either `displot` (a figure-level function with\n",
            "similar flexibility) or `histplot` (an axes-level function for histograms).\n",
            "\n",
            "For a guide to updating your code to use the new functions, please see\n",
            "https://gist.github.com/mwaskom/de44147ed2974457ad6372750bbe5751\n",
            "\n",
            "  sns.distplot(doc_lengths)\n"
          ]
        },
        {
          "output_type": "execute_result",
          "data": {
            "text/plain": [
              "<Axes: ylabel='Density'>"
            ]
          },
          "metadata": {},
          "execution_count": 8
        },
        {
          "output_type": "display_data",
          "data": {
            "text/plain": [
              "<Figure size 640x480 with 1 Axes>"
            ],
            "image/png": "[encoded data removed]"
          },
          "metadata": {}
        }
      ]
    },
    {
      "cell_type": "code",
      "source": [
        "help"
      ],
      "metadata": {
        "id": "YzVqVf9zWIqc"
      },
      "execution_count": null,
      "outputs": []
    },
    {
      "cell_type": "code",
      "source": [
        "# la longueur moyenne d'un jeton\n",
        "np.average(doc_lengths)"
      ],
      "metadata": {
        "id": "oyHlYF_xS_Zb"
      },
      "execution_count": null,
      "outputs": []
    },
    {
      "cell_type": "markdown",
      "source": [
        "# GPT2 Tokenizer\n",
        "Bien que les valeurs par défaut s'en chargent, j'ai pensé montrer qu'il est possible de spécifier certains des jetons spéciaux."
      ],
      "metadata": {
        "id": "qmv-CIu1V_qf"
      }
    },
    {
      "cell_type": "code",
      "source": [
        "# Lecture de Tokenizer.\n",
        "tokenizer = GPT2Tokenizer.from_pretrained('gpt2', bos_token='<|startoftext|>', eos_token='<|endoftext|>', pad_token='<|pad|>')"
      ],
      "metadata": {
        "id": "ZcdZ4GglS_en"
      },
      "execution_count": null,
      "outputs": []
    },
    {
      "cell_type": "markdown",
      "source": [
        "# Ensembles de données et chargeurs de données PyTorch\n",
        "GPT2 est un modèle de grande taille. L'augmentation de la taille des lots au-delà de 2 a conduit à des problèmes de mémoire insuffisante. Ce problème peut être atténué en accumulant les gradients, mais cela n'entre pas dans le cadre de cette étude."
      ],
      "metadata": {
        "id": "rOAirQ5SWQBr"
      }
    },
    {
      "cell_type": "code",
      "source": [
        "batch_size = 2"
      ],
      "metadata": {
        "id": "SDblGflTWUHS"
      },
      "execution_count": null,
      "outputs": []
    },
    {
      "cell_type": "markdown",
      "source": [
        "J'utilise l'approche standard de PyTorch pour charger les données en utilisant une classe dataset.\n",
        "\n",
        "Je passe le tokenizer en argument mais normalement je devrais l'instancier dans la classe."
      ],
      "metadata": {
        "id": "ocihGNN7WVJ6"
      }
    },
    {
      "cell_type": "code",
      "source": [
        "class GPT2Dataset(Dataset):\n",
        "\n",
        "  def __init__(self, txt_list, tokenizer, gpt2_type=\"gpt2\", max_length=768):\n",
        "\n",
        "    self.tokenizer = tokenizer\n",
        "    self.input_ids = []\n",
        "    self.attn_masks = []\n",
        "\n",
        "    for txt in txt_list:\n",
        "\n",
        "      encodings_dict = tokenizer('<|startoftext|>'+ txt + '<|endoftext|>', truncation=True, max_length=max_length, padding=\"max_length\")\n",
        "\n",
        "      self.input_ids.append(torch.tensor(encodings_dict['input_ids']))\n",
        "      self.attn_masks.append(torch.tensor(encodings_dict['attention_mask']))\n",
        "\n",
        "  def __len__(self):\n",
        "    return len(self.input_ids)\n",
        "\n",
        "  def __getitem__(self, idx):\n",
        "    return self.input_ids[idx], self.attn_masks[idx]"
      ],
      "metadata": {
        "id": "Vvv_h6FFWcDB"
      },
      "execution_count": null,
      "outputs": []
    },
    {
      "cell_type": "markdown",
      "source": [
        "Pour comprendre comment j'ai utilisé le tokenizer, il est utile de lire la documentation. J'ai enveloppé chaque bio dans les jetons bos et eos.\n",
        "\n",
        "Chaque tenseur transmis au modèle doit avoir la même longueur.\n",
        "\n",
        "Si la bio est plus courte que 768 tokens, elle sera ramenée à une longueur de 768 en utilisant le token padding. De plus, un masque d'attention sera renvoyé et devra être transmis au modèle pour lui indiquer d'ignorer les jetons de remplissage.\n",
        "\n",
        "Si la bio est plus longue que 768 tokens, elle sera tronquée sans le eos_token. Ce n'est pas un problème."
      ],
      "metadata": {
        "id": "0vSoUrGaWgzo"
      }
    },
    {
      "cell_type": "code",
      "source": [
        "dataset = GPT2Dataset(answers_covid, tokenizer, max_length=768)\n",
        "\n",
        "# Split into training and validation sets\n",
        "train_size = int(0.9 * len(dataset))\n",
        "val_size = len(dataset) - train_size\n",
        "\n",
        "train_dataset, val_dataset = random_split(dataset, [train_size, val_size])\n",
        "\n",
        "print('{:>5,} training samples'.format(train_size))\n",
        "print('{:>5,} validation samples'.format(val_size))"
      ],
      "metadata": {
        "id": "LQYBw2JMWqNH"
      },
      "execution_count": null,
      "outputs": []
    },
    {
      "cell_type": "code",
      "source": [
        "# Créer les DataLoaders pour nos ensembles de données d'entraînement et de validation.\n",
        "# Nous allons prendre des échantillons d'entraînement dans un ordre aléatoire.\n",
        "train_dataloader = DataLoader(\n",
        "            train_dataset,  # Les échantillons de formation.\n",
        "            sampler = RandomSampler(train_dataset), # Sélectionner les lots de manière aléatoir\n",
        "            batch_size = batch_size # Trains avec cette taille de lot.\n",
        "        )\n",
        "\n",
        "# Pour la validation, l'ordre n'a pas d'importance, nous les lirons donc de manière séquentielle.\n",
        "validation_dataloader = DataLoader(\n",
        "            val_dataset, # Les échantillons de validation.\n",
        "            sampler = SequentialSampler(val_dataset), # Retirer les lots de manière séquentielle.\n",
        "            batch_size = batch_size # Évaluer avec cette taille de lot.\n",
        ")"
      ],
      "metadata": {
        "id": "MTRpLjZ-WvDw"
      },
      "execution_count": null,
      "outputs": []
    },
    {
      "cell_type": "markdown",
      "source": [
        "# Finetune GPT2 Language Model"
      ],
      "metadata": {
        "id": "V_CFp4rNWz2G"
      }
    },
    {
      "cell_type": "code",
      "source": [
        "# Je ne fais rien avec la configuration buheret\n",
        "configuration = GPT2Config.from_pretrained('gpt2', output_hidden_states=False)\n",
        "\n",
        "# instanciation du modèle\n",
        "model = GPT2LMHeadModel.from_pretrained(\"gpt2\", config=configuration)\n",
        "\n",
        "# cette étape est nécessaire car j'ai ajouté des tokens (bos_token, etc) aux embeddings\n",
        "# sinon les tenseurs du tokenizer et du modèle ne correspondront pas\n",
        "model.resize_token_embeddings(len(tokenizer))\n",
        "\n",
        "# Indiquer à pytorch d'exécuter ce modèle sur le GPU.\n",
        "device = torch.device(\"cuda\")\n",
        "model.cuda()\n",
        "\n",
        "# Set the seed value all over the place to make this reproducible.\n",
        "seed_val = 42\n",
        "\n",
        "random.seed(seed_val)\n",
        "np.random.seed(seed_val)\n",
        "torch.manual_seed(seed_val)\n",
        "torch.cuda.manual_seed_all(seed_val)"
      ],
      "metadata": {
        "id": "2vsCllOmW5nm"
      },
      "execution_count": null,
      "outputs": []
    },
    {
      "cell_type": "code",
      "source": [
        "# Quelques paramètres que j'ai élaborés et qui fonctionnent raisonnablement bien\n",
        "\n",
        "epochs = 5\n",
        "learning_rate = 5e-4\n",
        "warmup_steps = 1e2\n",
        "epsilon = 1e-8\n",
        "\n",
        "# ceci produit un échantillon de sortie tous les 100 pas\n",
        "sample_every = 100"
      ],
      "metadata": {
        "id": "Iv_57SFHW_pp"
      },
      "execution_count": null,
      "outputs": []
    },
    {
      "cell_type": "code",
      "source": [
        "# Note : AdamW est une classe de la bibliothèque huggingface (par opposition à pytorch)\n",
        "optimizer = AdamW(model.parameters(),\n",
        "                  lr = learning_rate,\n",
        "                  eps = epsilon\n",
        "                )"
      ],
      "metadata": {
        "id": "7KsE6ST8XBjp"
      },
      "execution_count": null,
      "outputs": []
    },
    {
      "cell_type": "code",
      "source": [
        "# Le nombre total d'étapes d'apprentissage est [nombre de lots] x [nombre d'époques].\n",
        "# (Notez que ce n'est pas la même chose que le nombre d'échantillons d'apprentissage).\n",
        "total_steps = len(train_dataloader) * epochs\n",
        "\n",
        "# Créer le planificateur du taux d'apprentissage.\n",
        "# Il modifie le taux d'apprentissage au fur et à mesure de la progression de la boucle d'apprentissage.\n",
        "scheduler = get_linear_schedule_with_warmup(optimizer,\n",
        "                                            num_warmup_steps = warmup_steps,\n",
        "                                            num_training_steps = total_steps)"
      ],
      "metadata": {
        "id": "gcGGFLUVXEhf"
      },
      "execution_count": null,
      "outputs": []
    },
    {
      "cell_type": "code",
      "source": [
        "def format_time(elapsed):\n",
        "    return str(datetime.timedelta(seconds=int(round((elapsed)))))"
      ],
      "metadata": {
        "id": "FXJwIWyEXNsg"
      },
      "execution_count": null,
      "outputs": []
    },
    {
      "cell_type": "code",
      "source": [
        "total_t0 = time.time()\n",
        "\n",
        "training_stats = []\n",
        "\n",
        "model = model.to(device)\n",
        "\n",
        "for epoch_i in range(0, epochs):\n",
        "\n",
        "    # ========================================\n",
        "    #               Training\n",
        "    # ========================================\n",
        "\n",
        "    print(\"\")\n",
        "    print('======== Epoch {:} / {:} ========'.format(epoch_i + 1, epochs))\n",
        "    print('Training...')\n",
        "\n",
        "    t0 = time.time()\n",
        "\n",
        "    total_train_loss = 0\n",
        "\n",
        "    model.train()\n",
        "\n",
        "    for step, batch in enumerate(train_dataloader):\n",
        "\n",
        "        b_input_ids = batch[0].to(device)\n",
        "        b_labels = batch[0].to(device)\n",
        "        b_masks = batch[1].to(device)\n",
        "\n",
        "        model.zero_grad()\n",
        "\n",
        "        outputs = model(  b_input_ids,\n",
        "                          labels=b_labels,\n",
        "                          attention_mask = b_masks,\n",
        "                          token_type_ids=None\n",
        "                        )\n",
        "\n",
        "        loss = outputs[0]\n",
        "\n",
        "        batch_loss = loss.item()\n",
        "        total_train_loss += batch_loss\n",
        "\n",
        "        # Get sample every x batches.\n",
        "        if step % sample_every == 0 and not step == 0:\n",
        "\n",
        "            elapsed = format_time(time.time() - t0)\n",
        "            print('  Batch {:>5,}  of  {:>5,}. Loss: {:>5,}.   Elapsed: {:}.'.format(step, len(train_dataloader), batch_loss, elapsed))\n",
        "\n",
        "            model.eval()\n",
        "\n",
        "            sample_outputs = model.generate(\n",
        "                                    bos_token_id=random.randint(1,30000),\n",
        "                                    do_sample=True,\n",
        "                                    top_k=50,\n",
        "                                    max_length = 200,\n",
        "                                    top_p=0.95,\n",
        "                                    num_return_sequences=1\n",
        "                                )\n",
        "            for i, sample_output in enumerate(sample_outputs):\n",
        "                  print(\"{}: {}\".format(i, tokenizer.decode(sample_output, skip_special_tokens=True)))\n",
        "\n",
        "            model.train()\n",
        "\n",
        "        loss.backward()\n",
        "\n",
        "        optimizer.step()\n",
        "\n",
        "        scheduler.step()\n",
        "\n",
        "    # Calculate the average loss over all of the batches.\n",
        "    avg_train_loss = total_train_loss / len(train_dataloader)\n",
        "\n",
        "    # Measure how long this epoch took.\n",
        "    training_time = format_time(time.time() - t0)\n",
        "\n",
        "    print(\"\")\n",
        "    print(\"  Average training loss: {0:.2f}\".format(avg_train_loss))\n",
        "    print(\"  Training epoch took: {:}\".format(training_time))\n",
        "\n",
        "    # ========================================\n",
        "    #               Validation\n",
        "    # ========================================\n",
        "\n",
        "    print(\"\")\n",
        "    print(\"Running Validation...\")\n",
        "\n",
        "    t0 = time.time()\n",
        "\n",
        "    model.eval()\n",
        "\n",
        "    total_eval_loss = 0\n",
        "    nb_eval_steps = 0\n",
        "\n",
        "    # Evaluate data for one epoch\n",
        "    for batch in validation_dataloader:\n",
        "\n",
        "        b_input_ids = batch[0].to(device)\n",
        "        b_labels = batch[0].to(device)\n",
        "        b_masks = batch[1].to(device)\n",
        "\n",
        "        with torch.no_grad():\n",
        "\n",
        "            outputs  = model(b_input_ids,\n",
        "#                            token_type_ids=None,\n",
        "                             attention_mask = b_masks,\n",
        "                            labels=b_labels)\n",
        "\n",
        "            loss = outputs[0]\n",
        "\n",
        "        batch_loss = loss.item()\n",
        "        total_eval_loss += batch_loss\n",
        "\n",
        "    avg_val_loss = total_eval_loss / len(validation_dataloader)\n",
        "\n",
        "    validation_time = format_time(time.time() - t0)\n",
        "\n",
        "    print(\"  Validation Loss: {0:.2f}\".format(avg_val_loss))\n",
        "    print(\"  Validation took: {:}\".format(validation_time))\n",
        "\n",
        "    # Record all statistics from this epoch.\n",
        "    training_stats.append(\n",
        "        {\n",
        "            'epoch': epoch_i + 1,\n",
        "            'Training Loss': avg_train_loss,\n",
        "            'Valid. Loss': avg_val_loss,\n",
        "            'Training Time': training_time,\n",
        "            'Validation Time': validation_time\n",
        "        }\n",
        "    )\n",
        "\n",
        "print(\"\")\n",
        "print(\"Training complete!\")\n",
        "print(\"Total training took {:} (h:mm:ss)\".format(format_time(time.time()-total_t0)))"
      ],
      "metadata": {
        "id": "jKUIZeYAXPQH"
      },
      "execution_count": null,
      "outputs": []
    },
    {
      "cell_type": "markdown",
      "source": [
        "Voyons le résumé du processus de formation."
      ],
      "metadata": {
        "id": "io75SkzCXX-B"
      }
    },
    {
      "cell_type": "code",
      "source": [
        "# Afficher les flottants avec deux décimales.\n",
        "pd.set_option('display.precision', 2)\n",
        "\n",
        "# Créer un DataFrame à partir de nos statistiques d'entraînement.\n",
        "df_stats = pd.DataFrame(data=training_stats)\n",
        "\n",
        "# Utiliser 'epoch' comme index de ligne.\n",
        "df_stats = df_stats.set_index('epoch')\n",
        "\n",
        "# Un hack pour forcer les en-têtes de colonnes à s'enrouler.\n",
        "#df = df.style.set_table_styles([dict(selector=\"th\",props=[('max-width', '70px')])])\n",
        "\n",
        "# Affiche le tableau.\n",
        "df_stats"
      ],
      "metadata": {
        "id": "T1U6Z6I8XcPP"
      },
      "execution_count": null,
      "outputs": []
    },
    {
      "cell_type": "code",
      "source": [
        "# Utiliser le style d'intrigue de seaborn.\n",
        "sns.set(style='darkgrid')\n",
        "\n",
        "# Augmenter la taille du tracé et la taille de la police.\n",
        "sns.set(font_scale=1.5)\n",
        "plt.rcParams[\"figure.figsize\"] = (12,6)\n",
        "\n",
        "# Tracer la courbe d'apprentissage.\n",
        "plt.plot(df_stats['Training Loss'], 'b-o', label=\"Entrainement\")\n",
        "plt.plot(df_stats['Valid. Loss'], 'g-o', label=\"Validation\")\n",
        "\n",
        "# Etiqueter le graphique.\n",
        "plt.title(\"Entrainement et Validation\")\n",
        "plt.xlabel(\"Epoch\")\n",
        "plt.ylabel(\"Loss\")\n",
        "plt.legend()\n",
        "plt.xticks([1, 2, 3, 4])\n",
        "\n",
        "plt.show()"
      ],
      "metadata": {
        "id": "UgmJtUIXXiLc"
      },
      "execution_count": null,
      "outputs": []
    },
    {
      "cell_type": "markdown",
      "source": [
        "# Afficher les informations sur le modèle"
      ],
      "metadata": {
        "id": "RNlBOjX1XpHa"
      }
    },
    {
      "cell_type": "code",
      "source": [
        "# Obtenir tous les paramètres du modèle sous la forme d'une liste de tuples.\n",
        "params = list(model.named_parameters())\n",
        "\n",
        "print('The GPT-2 model has {:} different named parameters.\\n'.format(len(params)))\n",
        "\n",
        "print('==== Embedding Layer ====\\n')\n",
        "\n",
        "for p in params[0:2]:\n",
        "    print(\"{:<55} {:>12}\".format(p[0], str(tuple(p[1].size()))))\n",
        "\n",
        "print('\\n==== First Transformer ====\\n')\n",
        "\n",
        "for p in params[2:14]:\n",
        "    print(\"{:<55} {:>12}\".format(p[0], str(tuple(p[1].size()))))\n",
        "\n",
        "print('\\n==== Output Layer ====\\n')\n",
        "\n",
        "for p in params[-2:]:\n",
        "    print(\"{:<55} {:>12}\".format(p[0], str(tuple(p[1].size()))))"
      ],
      "metadata": {
        "id": "qdNhFGeJXqzE"
      },
      "execution_count": null,
      "outputs": []
    },
    {
      "cell_type": "markdown",
      "source": [
        "# Sauvegarde et chargement d'un modèle affiné"
      ],
      "metadata": {
        "id": "TVrrlO_ZX1_o"
      }
    },
    {
      "cell_type": "code",
      "source": [
        "# Sauvegarde des meilleures pratiques : si vous utilisez des noms par défaut pour le modèle, vous pouvez le recharger en utilisant from_pretrained().\n",
        "\n",
        "output_dir = './model_save/'\n",
        "\n",
        "# Créer un répertoire de sortie si nécessaire\n",
        "if not os.path.exists(output_dir):\n",
        "    os.makedirs(output_dir)\n",
        "\n",
        "print(\"Saving model to %s\" % output_dir)\n",
        "\n",
        "# Sauvegarder un modèle entraîné, une configuration et un tokenizer en utilisant `save_pretrained()`.\n",
        "# Ils peuvent ensuite être rechargés en utilisant `from_pretrained()`\n",
        "model_to_save = model.module if hasattr(model, 'module') else model  # Prendre en charge la formation distribuée/parallèle\n",
        "model_to_save.save_pretrained(output_dir)\n",
        "tokenizer.save_pretrained(output_dir)\n",
        "\n",
        "# Bonne pratique : sauvegarder les arguments d'entraînement avec le modèle entraîné\n",
        "# torch.save(args, os.path.join(output_dir, 'training_args.bin'))"
      ],
      "metadata": {
        "id": "pQnLnm-3X4fn"
      },
      "execution_count": null,
      "outputs": []
    },
    {
      "cell_type": "code",
      "source": [
        "!ls -l --block-size=K ./model_save/"
      ],
      "metadata": {
        "id": "X_Q7kdXiYA1S"
      },
      "execution_count": null,
      "outputs": []
    },
    {
      "cell_type": "code",
      "source": [
        "!ls -l --block-size=M ./model_save/pytorch_model.bin"
      ],
      "metadata": {
        "id": "i88qjvqRYCLK"
      },
      "execution_count": null,
      "outputs": []
    },
    {
      "cell_type": "code",
      "source": [
        "# Copiez les fichiers du modèle dans un répertoire de votre Google Drive.\n",
        "!cp -r ./model_save/ $data_dir\n",
        "\n",
        "# # Charger un modèle entraîné et un vocabulaire que vous avez affiné\n",
        "#model = GPT2LMHeadModel.from_pretrained(output_dir)\n",
        "#tokenizer = GPT2Tokenizer.from_pretrained(output_dir)\n",
        "#model.to(device)"
      ],
      "metadata": {
        "id": "s3p-s5tUYGvJ"
      },
      "execution_count": null,
      "outputs": []
    },
    {
      "cell_type": "markdown",
      "source": [
        "# Generation de texte"
      ],
      "metadata": {
        "id": "0CsJ5DabYSBT"
      }
    },
    {
      "cell_type": "code",
      "source": [
        "model.eval()\n",
        "\n",
        "prompt = \"covid19 symptoms\"\n",
        "\n",
        "generated = torch.tensor(tokenizer.encode(prompt)).unsqueeze(0)\n",
        "generated = generated.to(device)\n",
        "\n",
        "print(generated)\n",
        "\n",
        "sample_outputs = model.generate(\n",
        "                                generated,\n",
        "                                #bos_token_id=random.randint(1,30000),\n",
        "                                do_sample=True,\n",
        "                                top_k=50,\n",
        "                                max_length = 300,\n",
        "                                top_p=0.95,\n",
        "                                num_return_sequences=3\n",
        "                                )\n",
        "\n",
        "for i, sample_output in enumerate(sample_outputs):\n",
        "  print(\"{}: {}\\n\\n\".format(i, tokenizer.decode(sample_output, skip_special_tokens=True)))"
      ],
      "metadata": {
        "id": "PwxVjaSBYhJh"
      },
      "execution_count": null,
      "outputs": []
    }
  ],
  "metadata": {
    "colab": {
      "name": "Bienvenue dans Colaboratory",
      "provenance": [],
      "include_colab_link": true
    },
    "kernelspec": {
      "display_name": "Python 3",
      "name": "python3"
    }
  },
  "nbformat": 4,
  "nbformat_minor": 0
}